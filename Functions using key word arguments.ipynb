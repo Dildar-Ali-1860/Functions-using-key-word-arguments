{
 "cells": [
  {
   "cell_type": "markdown",
   "id": "d624a1d7",
   "metadata": {},
   "source": [
    "# More on functions (keyword Arguments)"
   ]
  },
  {
   "cell_type": "code",
   "execution_count": 27,
   "id": "c9f83630",
   "metadata": {},
   "outputs": [],
   "source": [
    "def func(arr,task):\n",
    "    # sum,mult,max,min,even,odd\n",
    "    if task==\"sum\":\n",
    "        return sum(arr)\n",
    "    \n",
    "    elif task==\"mult\":\n",
    "        a=1\n",
    "        for i in arr:\n",
    "            a*=i\n",
    "        return a\n",
    "    \n",
    "    elif task=='max':\n",
    "        return max(arr)\n",
    "    \n",
    "    elif task=='min':\n",
    "        return min(arr)\n",
    "    \n",
    "    elif task=='even':\n",
    "        even=[]\n",
    "        for a in arr:\n",
    "            if a%2==0:\n",
    "                even.append(a)\n",
    "        return even\n",
    "    \n",
    "    elif task=='odd':\n",
    "        odd=[]\n",
    "        for a in arr:\n",
    "            if a%2!=0:\n",
    "                odd.append(a)\n",
    "        return odd\n",
    "    "
   ]
  },
  {
   "cell_type": "code",
   "execution_count": 28,
   "id": "f4656b28",
   "metadata": {},
   "outputs": [
    {
     "data": {
      "text/plain": [
       "21"
      ]
     },
     "execution_count": 28,
     "metadata": {},
     "output_type": "execute_result"
    }
   ],
   "source": [
    "func([1,2,3,4,5,6], \"sum\")"
   ]
  },
  {
   "cell_type": "code",
   "execution_count": 29,
   "id": "bcfa9a0d",
   "metadata": {},
   "outputs": [
    {
     "data": {
      "text/plain": [
       "720"
      ]
     },
     "execution_count": 29,
     "metadata": {},
     "output_type": "execute_result"
    }
   ],
   "source": [
    "func([1,2,3,4,5,6], \"mult\")"
   ]
  },
  {
   "cell_type": "code",
   "execution_count": 30,
   "id": "74f152d1",
   "metadata": {},
   "outputs": [
    {
     "data": {
      "text/plain": [
       "[2, 4, 6]"
      ]
     },
     "execution_count": 30,
     "metadata": {},
     "output_type": "execute_result"
    }
   ],
   "source": [
    "func([1,2,3,4,5,6], \"even\")"
   ]
  },
  {
   "cell_type": "code",
   "execution_count": 31,
   "id": "bb511ce6",
   "metadata": {},
   "outputs": [
    {
     "data": {
      "text/plain": [
       "1"
      ]
     },
     "execution_count": 31,
     "metadata": {},
     "output_type": "execute_result"
    }
   ],
   "source": [
    "func([1,2,3,4,5,6], \"min\")"
   ]
  },
  {
   "cell_type": "code",
   "execution_count": 32,
   "id": "5968c631",
   "metadata": {},
   "outputs": [
    {
     "data": {
      "text/plain": [
       "[1, 3, 5]"
      ]
     },
     "execution_count": 32,
     "metadata": {},
     "output_type": "execute_result"
    }
   ],
   "source": [
    "func([1,2,3,4,5,6], \"odd\")"
   ]
  },
  {
   "cell_type": "code",
   "execution_count": 33,
   "id": "5cd1650e",
   "metadata": {},
   "outputs": [
    {
     "data": {
      "text/plain": [
       "6"
      ]
     },
     "execution_count": 33,
     "metadata": {},
     "output_type": "execute_result"
    }
   ],
   "source": [
    "func([1,2,3,4,5,6], \"max\")"
   ]
  },
  {
   "cell_type": "code",
   "execution_count": 34,
   "id": "1b0ded54",
   "metadata": {},
   "outputs": [
    {
     "ename": "TypeError",
     "evalue": "func() missing 1 required positional argument: 'task'",
     "output_type": "error",
     "traceback": [
      "\u001b[1;31m---------------------------------------------------------------------------\u001b[0m",
      "\u001b[1;31mTypeError\u001b[0m                                 Traceback (most recent call last)",
      "\u001b[1;32mC:\\Users\\LAB02R~1\\AppData\\Local\\Temp/ipykernel_12448/401282935.py\u001b[0m in \u001b[0;36m<module>\u001b[1;34m\u001b[0m\n\u001b[1;32m----> 1\u001b[1;33m \u001b[0mfunc\u001b[0m\u001b[1;33m(\u001b[0m\u001b[1;33m[\u001b[0m\u001b[1;36m2\u001b[0m\u001b[1;33m,\u001b[0m\u001b[1;36m3\u001b[0m\u001b[1;33m,\u001b[0m\u001b[1;36m4\u001b[0m\u001b[1;33m,\u001b[0m\u001b[1;36m5\u001b[0m\u001b[1;33m]\u001b[0m\u001b[1;33m)\u001b[0m\u001b[1;33m\u001b[0m\u001b[1;33m\u001b[0m\u001b[0m\n\u001b[0m",
      "\u001b[1;31mTypeError\u001b[0m: func() missing 1 required positional argument: 'task'"
     ]
    }
   ],
   "source": [
    "func([2,3,4,5])"
   ]
  },
  {
   "cell_type": "code",
   "execution_count": 23,
   "id": "b4e77e59",
   "metadata": {},
   "outputs": [],
   "source": [
    "def func(arr,task=\"\"):\n",
    "    # sum,mult,max,min,even,odd\n",
    "    if task==\"sum\":\n",
    "        return sum(arr)\n",
    "    \n",
    "    elif task==\"mult\":\n",
    "        a=1\n",
    "        for i in arr:\n",
    "            a*=i\n",
    "        return a\n",
    "    \n",
    "    elif task=='max':\n",
    "        return max(arr)\n",
    "    \n",
    "    elif task=='min':\n",
    "        return min(arr)\n",
    "    \n",
    "    elif task=='even':\n",
    "        even=[]\n",
    "        for a in arr:\n",
    "            if a%2==0:\n",
    "                even.append(a)\n",
    "        return even\n",
    "    \n",
    "    elif task=='odd':\n",
    "        odd=[]\n",
    "        for a in arr:\n",
    "            if a%2!=0:\n",
    "                odd.append(a)\n",
    "        return odd\n",
    "    \n",
    "    else: #this loop will run if we do'nt assign task to the array\n",
    "        return arr    "
   ]
  },
  {
   "cell_type": "code",
   "execution_count": 24,
   "id": "cbdb4fb9",
   "metadata": {},
   "outputs": [
    {
     "data": {
      "text/plain": [
       "[1, 2, 433]"
      ]
     },
     "execution_count": 24,
     "metadata": {},
     "output_type": "execute_result"
    }
   ],
   "source": [
    "func([1,2,433])"
   ]
  },
  {
   "cell_type": "code",
   "execution_count": 95,
   "id": "44072a89",
   "metadata": {},
   "outputs": [],
   "source": [
    "def func(arr,task=\"\"):\n",
    "    # sum,mult,max,min,even,odd\n",
    "    if task==\"+\":\n",
    "        return sum(arr)\n",
    "    \n",
    "    elif task==\"-\":\n",
    "        a=0\n",
    "        for i in arr:\n",
    "            a-=i\n",
    "        return a\n",
    "    \n",
    "    elif task==\"*\":\n",
    "        a=1\n",
    "        for i in arr:\n",
    "            a*=i\n",
    "        return a\n",
    "    \n",
    "    elif task==\"/\":\n",
    "        a=1\n",
    "        for i in arr:\n",
    "            a/=i\n",
    "        return a\n",
    "    \n",
    "    elif task=='sqr':\n",
    "        sqr=[]\n",
    "        for a in arr:\n",
    "                sqr.append(a**2)\n",
    "        return sqr\n",
    "    \n",
    "    elif task=='cube':\n",
    "        cube=[]\n",
    "        for a in arr:\n",
    "                cube.append(a**3)\n",
    "        return cube\n",
    "    \n",
    "    else: #this loop will run if we do'nt assign task to the array\n",
    "        return arr    "
   ]
  },
  {
   "cell_type": "code",
   "execution_count": 96,
   "id": "eff40327",
   "metadata": {},
   "outputs": [
    {
     "data": {
      "text/plain": [
       "120"
      ]
     },
     "execution_count": 96,
     "metadata": {},
     "output_type": "execute_result"
    }
   ],
   "source": [
    "func([2,3,4,5],\"*\")"
   ]
  },
  {
   "cell_type": "code",
   "execution_count": 97,
   "id": "bfdc64c6",
   "metadata": {},
   "outputs": [
    {
     "data": {
      "text/plain": [
       "14"
      ]
     },
     "execution_count": 97,
     "metadata": {},
     "output_type": "execute_result"
    }
   ],
   "source": [
    "func([2,3,4,5],\"+\")"
   ]
  },
  {
   "cell_type": "code",
   "execution_count": 98,
   "id": "beb8cdc8",
   "metadata": {},
   "outputs": [
    {
     "data": {
      "text/plain": [
       "[4, 9, 16, 25]"
      ]
     },
     "execution_count": 98,
     "metadata": {},
     "output_type": "execute_result"
    }
   ],
   "source": [
    "func([2,3,4,5],\"sqr\")"
   ]
  },
  {
   "cell_type": "code",
   "execution_count": 99,
   "id": "f62f9997",
   "metadata": {},
   "outputs": [
    {
     "data": {
      "text/plain": [
       "[8, 27, 64, 125]"
      ]
     },
     "execution_count": 99,
     "metadata": {},
     "output_type": "execute_result"
    }
   ],
   "source": [
    "func([2,3,4,5],\"cube\")"
   ]
  },
  {
   "cell_type": "code",
   "execution_count": 100,
   "id": "4c3c367f",
   "metadata": {},
   "outputs": [
    {
     "data": {
      "text/plain": [
       "-15"
      ]
     },
     "execution_count": 100,
     "metadata": {},
     "output_type": "execute_result"
    }
   ],
   "source": [
    "func([5,4,3,2,1],\"-\")"
   ]
  },
  {
   "cell_type": "code",
   "execution_count": 101,
   "id": "d667d912",
   "metadata": {},
   "outputs": [
    {
     "data": {
      "text/plain": [
       "0.008333333333333333"
      ]
     },
     "execution_count": 101,
     "metadata": {},
     "output_type": "execute_result"
    }
   ],
   "source": [
    "func([5,4,3,2,1],\"/\")"
   ]
  },
  {
   "cell_type": "code",
   "execution_count": 104,
   "id": "71fbe625",
   "metadata": {},
   "outputs": [
    {
     "ename": "SyntaxError",
     "evalue": "invalid syntax (Temp/ipykernel_12448/796699681.py, line 1)",
     "output_type": "error",
     "traceback": [
      "\u001b[1;36m  File \u001b[1;32m\"C:\\Users\\LAB02R~1\\AppData\\Local\\Temp/ipykernel_12448/796699681.py\"\u001b[1;36m, line \u001b[1;32m1\u001b[0m\n\u001b[1;33m    def a(str(name)):\u001b[0m\n\u001b[1;37m             ^\u001b[0m\n\u001b[1;31mSyntaxError\u001b[0m\u001b[1;31m:\u001b[0m invalid syntax\n"
     ]
    }
   ],
   "source": [
    "def a(str(name)):\n",
    "    return name"
   ]
  },
  {
   "cell_type": "markdown",
   "id": "6a50d8f8",
   "metadata": {},
   "source": [
    "# Keyword Arguments"
   ]
  },
  {
   "cell_type": "code",
   "execution_count": 113,
   "id": "5d19aae7",
   "metadata": {},
   "outputs": [],
   "source": [
    "def description(name,age,gender,blood_group):\n",
    "    desc =f\"\"\"\n",
    "            The name of person is {name},\n",
    "            age is {age},\n",
    "            gender is {gender},\n",
    "            and blood group is {blood_group} .\"\"\"\n",
    "    print(desc)"
   ]
  },
  {
   "cell_type": "code",
   "execution_count": 114,
   "id": "9b4082be",
   "metadata": {},
   "outputs": [
    {
     "name": "stdout",
     "output_type": "stream",
     "text": [
      "\n",
      "            The name of person is Dildar,\n",
      "            age is 22,\n",
      "            gender is male,\n",
      "            and blood group is O+ .\n"
     ]
    }
   ],
   "source": [
    "description(\"Dildar\",22,\"male\",\"O+\")"
   ]
  },
  {
   "cell_type": "code",
   "execution_count": 116,
   "id": "3c50328c",
   "metadata": {},
   "outputs": [
    {
     "name": "stdout",
     "output_type": "stream",
     "text": [
      "\n",
      "            The name of person is dildar,\n",
      "            age is 22,\n",
      "            gender is male,\n",
      "            and blood group is O+ .\n"
     ]
    }
   ],
   "source": [
    "description(age=22,name=\"dildar\",blood_group=\"O+\",gender=\"male\")"
   ]
  },
  {
   "cell_type": "code",
   "execution_count": 122,
   "id": "5be28bea",
   "metadata": {},
   "outputs": [],
   "source": [
    "def std_information(student_name,roll_number,semester,institute):\n",
    "    info = f\"\"\"\n",
    "            The name of student is {student_name},\n",
    "            his roll number is {roll_number},\n",
    "            he is in {semester} semester,\n",
    "            and he is enrolled in {institute}.\"\"\"\n",
    "    print(info)    "
   ]
  },
  {
   "cell_type": "code",
   "execution_count": 124,
   "id": "4082e9e3",
   "metadata": {},
   "outputs": [
    {
     "name": "stdout",
     "output_type": "stream",
     "text": [
      "\n",
      "            The name of student is Dildar,\n",
      "            his roll number is 20202-27142,\n",
      "            he is in 5th semester,\n",
      "            and he is enrolled in IoBM.\n"
     ]
    }
   ],
   "source": [
    "std_information(\"Dildar\",\"20202-27142\",\"5th\",\"IoBM\")"
   ]
  },
  {
   "cell_type": "markdown",
   "id": "bdd51015",
   "metadata": {},
   "source": [
    "# Returning a Dictionary"
   ]
  },
  {
   "cell_type": "code",
   "execution_count": 126,
   "id": "3a28b670",
   "metadata": {},
   "outputs": [
    {
     "name": "stdout",
     "output_type": "stream",
     "text": [
      "{'first': 'Dildar', 'last': 'ALi'}\n"
     ]
    }
   ],
   "source": [
    "def build_person(first_name,last_name):\n",
    "    person={'first':first_name,'last':last_name}\n",
    "    return person\n",
    "\n",
    "musician= build_person(\"Dildar\",\"ALi\")\n",
    "print(musician)"
   ]
  },
  {
   "cell_type": "code",
   "execution_count": 131,
   "id": "33bf15cd",
   "metadata": {},
   "outputs": [
    {
     "name": "stdout",
     "output_type": "stream",
     "text": [
      "{'first': 'Dildar', 'last': 'ALi'}\n"
     ]
    }
   ],
   "source": [
    "def build_person(first_name,last_name,age=\"\"):\n",
    "    person={'first':first_name,'last':last_name}\n",
    "    if age:\n",
    "        person['age']=age\n",
    "    return person\n",
    "\n",
    "musician= build_person(\"Dildar\",\"ALi\")\n",
    "print(musician)"
   ]
  },
  {
   "cell_type": "code",
   "execution_count": 132,
   "id": "4e06bb7b",
   "metadata": {},
   "outputs": [
    {
     "name": "stdout",
     "output_type": "stream",
     "text": [
      "{'first': 'Dildar', 'last': 'ALi', 'age': 22}\n"
     ]
    }
   ],
   "source": [
    "def build_person(first_name,last_name,age=\"\"):\n",
    "    person={'first':first_name,'last':last_name}\n",
    "    if age:\n",
    "        person['age']=age\n",
    "    return person\n",
    "\n",
    "musician= build_person(\"Dildar\",\"ALi\",22)\n",
    "print(musician)"
   ]
  },
  {
   "cell_type": "code",
   "execution_count": 135,
   "id": "a6ea39c4",
   "metadata": {},
   "outputs": [],
   "source": [
    "age=\"\" # it not runs because it has none value assigned in age\n",
    "if age:\n",
    "    print(\"Hello Dildar\")"
   ]
  },
  {
   "cell_type": "code",
   "execution_count": 136,
   "id": "fbdc7380",
   "metadata": {},
   "outputs": [
    {
     "name": "stdout",
     "output_type": "stream",
     "text": [
      "Hello Dildar\n"
     ]
    }
   ],
   "source": [
    "age=22 \n",
    "if age:\n",
    "    print(\"Hello Dildar\")"
   ]
  },
  {
   "cell_type": "code",
   "execution_count": 128,
   "id": "21439665",
   "metadata": {},
   "outputs": [
    {
     "name": "stdout",
     "output_type": "stream",
     "text": [
      "First name is Dildar, and last name is ALi\n",
      "None\n"
     ]
    }
   ],
   "source": [
    "def build_person(first_name,last_name):\n",
    "    #person={'first':first_name,'last':last_name}\n",
    "    #return person\n",
    "    print(f\"First name is {first_name}, and last name is {last_name}\")\n",
    "\n",
    "musician= build_person(\"Dildar\",\"ALi\")\n",
    "print(musician)"
   ]
  },
  {
   "cell_type": "code",
   "execution_count": null,
   "id": "891bdd8c",
   "metadata": {},
   "outputs": [],
   "source": []
  }
 ],
 "metadata": {
  "kernelspec": {
   "display_name": "Python 3 (ipykernel)",
   "language": "python",
   "name": "python3"
  },
  "language_info": {
   "codemirror_mode": {
    "name": "ipython",
    "version": 3
   },
   "file_extension": ".py",
   "mimetype": "text/x-python",
   "name": "python",
   "nbconvert_exporter": "python",
   "pygments_lexer": "ipython3",
   "version": "3.9.7"
  }
 },
 "nbformat": 4,
 "nbformat_minor": 5
}
